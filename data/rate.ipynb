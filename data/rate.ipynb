{
 "cells": [
  {
   "cell_type": "code",
   "execution_count": 7,
   "metadata": {},
   "outputs": [],
   "source": [
    "import warnings\n",
    "import numpy as np\n",
    "import pandas as pd\n",
    "import matplotlib.pyplot as plt"
   ]
  },
  {
   "cell_type": "code",
   "execution_count": 2,
   "metadata": {},
   "outputs": [],
   "source": [
    "plt.style.use('bmh')"
   ]
  },
  {
   "cell_type": "code",
   "execution_count": 3,
   "metadata": {},
   "outputs": [],
   "source": [
    "df = pd.read_csv('fe1half1.csv')"
   ]
  },
  {
   "cell_type": "code",
   "execution_count": 22,
   "metadata": {},
   "outputs": [],
   "source": [
    "def rate0(df, d=1, s=32):\n",
    "    dt1 = df.time[s + d] - df.time[s]\n",
    "    dt2 = df.time[s + 2 * d] - df.time[s + d]\n",
    "    if dt1 != dt2:\n",
    "        warnings.warn(\"Unequally spaced data\")\n",
    "    \n",
    "    c0 = df.Pressure[s]\n",
    "    c1 = df.Pressure[s + d]\n",
    "    c2 = df.Pressure[s + 2 * d]\n",
    "    \n",
    "    return (-3 * c0 + 4 * c1 - c2) / (2 * dt1)"
   ]
  },
  {
   "cell_type": "code",
   "execution_count": 11,
   "metadata": {},
   "outputs": [],
   "source": [
    "files = [\n",
    "    (\"fe1\", (1, 2, 3)),\n",
    "    (\"fe1half\", (0, 1, 2)),\n",
    "    (\"fe2\", (0, 1, 2, 3, 4)),\n",
    "    (\"fe2half\", (0, 1, 2)),\n",
    "    (\"fe3\", (0, 1, 2, 3)),\n",
    "    (\"fe3half\", (0, 1, 2)),\n",
    "    (\"fe4\", (0, 1, 2, 3, 4, 5))\n",
    "]"
   ]
  },
  {
   "cell_type": "code",
   "execution_count": 58,
   "metadata": {},
   "outputs": [
    {
     "name": "stdout",
     "output_type": "stream",
     "text": [
      "1\n",
      "count    0.0\n",
      "mean     NaN\n",
      "std      NaN\n",
      "min      NaN\n",
      "25%      NaN\n",
      "50%      NaN\n",
      "75%      NaN\n",
      "max      NaN\n",
      "dtype: float64\n",
      "\n",
      "1.5\n",
      "count    3.000000\n",
      "mean     0.055781\n",
      "std      0.011205\n",
      "min      0.046872\n",
      "25%      0.049492\n",
      "50%      0.052112\n",
      "75%      0.060236\n",
      "max      0.068360\n",
      "dtype: float64\n",
      "\n",
      "2.0\n",
      "count    5.000000\n",
      "mean     0.063237\n",
      "std      0.040872\n",
      "min      0.014345\n",
      "25%      0.041660\n",
      "50%      0.050238\n",
      "75%      0.095646\n",
      "max      0.114295\n",
      "dtype: float64\n",
      "\n",
      "2.5\n",
      "count    2.000000\n",
      "mean     0.141449\n",
      "std      0.035131\n",
      "min      0.116608\n",
      "25%      0.129028\n",
      "50%      0.141449\n",
      "75%      0.153870\n",
      "max      0.166290\n",
      "dtype: float64\n",
      "\n",
      "3.0\n",
      "count    4.000000\n",
      "mean     0.178916\n",
      "std      0.066571\n",
      "min      0.085107\n",
      "25%      0.161101\n",
      "50%      0.194791\n",
      "75%      0.212605\n",
      "max      0.240974\n",
      "dtype: float64\n",
      "\n",
      "3.5\n",
      "count    3.000000\n",
      "mean     0.259116\n",
      "std      0.021694\n",
      "min      0.237490\n",
      "25%      0.248235\n",
      "50%      0.258979\n",
      "75%      0.269929\n",
      "max      0.280878\n",
      "dtype: float64\n",
      "\n",
      "4.0\n",
      "count    6.000000\n",
      "mean     0.358207\n",
      "std      0.177674\n",
      "min      0.158707\n",
      "25%      0.245571\n",
      "50%      0.348243\n",
      "75%      0.400018\n",
      "max      0.665424\n",
      "dtype: float64\n",
      "\n"
     ]
    }
   ],
   "source": [
    "rates_avg = []\n",
    "rates_dev = []\n",
    "vs = []\n",
    "\n",
    "v = 1\n",
    "d = 120\n",
    "s = 45\n",
    "\n",
    "for fname, fnums in files:\n",
    "    rates = []\n",
    "    for fnum in fnums:\n",
    "        df = pd.read_csv(f\"{fname}{fnum}.csv\")\n",
    "        try:\n",
    "            rate = rate0(df, d=d, s=s)\n",
    "            if rate > 0:\n",
    "                rates.append(rate)\n",
    "        except:\n",
    "            pass\n",
    "    rates = pd.Series(rates)\n",
    "    \n",
    "    print(v)\n",
    "    print(pd.Series(rates).describe())\n",
    "    print()\n",
    "    \n",
    "    rates_avg.append(rates.mean())\n",
    "    rates_dev.append(rates.std())\n",
    "    vs.append(v)\n",
    "    \n",
    "    v += 0.5"
   ]
  },
  {
   "cell_type": "code",
   "execution_count": 43,
   "metadata": {},
   "outputs": [
    {
     "data": {
      "text/plain": [
       "<ErrorbarContainer object of 3 artists>"
      ]
     },
     "execution_count": 43,
     "metadata": {},
     "output_type": "execute_result"
    },
    {
     "data": {
      "image/png": "[encoded data removed]",
      "text/plain": [
       "<Figure size 432x288 with 1 Axes>"
      ]
     },
     "metadata": {
      "needs_background": "light"
     },
     "output_type": "display_data"
    }
   ],
   "source": [
    "plt.errorbar(vs, rates_avg, yerr=rates_dev, fmt='x')"
   ]
  },
  {
   "cell_type": "code",
   "execution_count": 78,
   "metadata": {},
   "outputs": [
    {
     "data": {
      "text/plain": [
       "<ErrorbarContainer object of 3 artists>"
      ]
     },
     "execution_count": 78,
     "metadata": {},
     "output_type": "execute_result"
    },
    {
     "data": {
      "image/png": "[encoded data removed]",
      "text/plain": [
       "<Figure size 432x288 with 1 Axes>"
      ]
     },
     "metadata": {
      "needs_background": "light"
     },
     "output_type": "display_data"
    }
   ],
   "source": [
    "rates_avg = []\n",
    "rates_dev = []\n",
    "vs = []\n",
    "\n",
    "v = 1\n",
    "d = 90\n",
    "s = 45\n",
    "\n",
    "for fname, fnums in files:\n",
    "    rates = []\n",
    "    for fnum in fnums:\n",
    "        df = pd.read_csv(f\"{fname}{fnum}.csv\")\n",
    "        try:\n",
    "            rate = rate0(df, d=d, s=s)\n",
    "            if rate > 0:\n",
    "                rates.append(rate)\n",
    "        except:\n",
    "            pass\n",
    "    rates = pd.Series(rates)\n",
    "        \n",
    "    rates_avg.append(rates.mean())\n",
    "    rates_dev.append(rates.std())\n",
    "    vs.append(v)\n",
    "    \n",
    "    v += 0.5\n",
    "\n",
    "plt.errorbar(vs, rates_avg, yerr=rates_dev, fmt='x', capsize=4.0)\n",
    "plt."
   ]
  },
  {
   "cell_type": "code",
   "execution_count": null,
   "metadata": {},
   "outputs": [],
   "source": []
  }
 ],
 "metadata": {
  "kernelspec": {
   "display_name": "Python 3",
   "language": "python",
   "name": "python3"
  },
  "language_info": {
   "codemirror_mode": {
    "name": "ipython",
    "version": 3
   },
   "file_extension": ".py",
   "mimetype": "text/x-python",
   "name": "python",
   "nbconvert_exporter": "python",
   "pygments_lexer": "ipython3",
   "version": "3.6.5"
  }
 },
 "nbformat": 4,
 "nbformat_minor": 2
}
