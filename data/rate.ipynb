{
 "cells": [
  {
   "cell_type": "code",
   "execution_count": 1,
   "metadata": {},
   "outputs": [],
   "source": [
    "import warnings\n",
    "import numpy as np\n",
    "import pandas as pd\n",
    "import matplotlib.pyplot as plt"
   ]
  },
  {
   "cell_type": "code",
   "execution_count": 2,
   "metadata": {},
   "outputs": [],
   "source": [
    "plt.style.use('bmh')"
   ]
  },
  {
   "cell_type": "code",
   "execution_count": 3,
   "metadata": {},
   "outputs": [],
   "source": [
    "df = pd.read_csv('fe1half1.csv')"
   ]
  },
  {
   "cell_type": "code",
   "execution_count": 4,
   "metadata": {},
   "outputs": [],
   "source": [
    "def rate0(df, d, s):\n",
    "    dt1 = df.time[s + d] - df.time[s]\n",
    "    dt2 = df.time[s + 2 * d] - df.time[s + d]\n",
    "#     if dt1 != dt2:\n",
    "#         warnings.warn(\"Unequally spaced data\")\n",
    "    \n",
    "    c0 = df.Pressure[s]\n",
    "    c1 = df.Pressure[s + d]\n",
    "    c2 = df.Pressure[s + 2 * d]\n",
    "    \n",
    "#     return (-3 * c0 + 4 * c1 - c2) / (2 * dt1)\n",
    "    return (c2 - c0) / (dt1 + dt2)"
   ]
  },
  {
   "cell_type": "code",
   "execution_count": 5,
   "metadata": {},
   "outputs": [],
   "source": [
    "files = [\n",
    "    (\"fe1\", (1, 2, 3)),\n",
    "    (\"fe1half\", (0, 1, 2)),\n",
    "    (\"fe2\", (0, 1, 2, 3, 4)),\n",
    "    (\"fe2half\", (0, 1, 2)),\n",
    "    (\"fe3\", (0, 1, 3)),\n",
    "    (\"fe3half\", (0, 1, 2)),\n",
    "    (\"fe4\", (0, 1, 2, 4))\n",
    "]"
   ]
  },
  {
   "cell_type": "code",
   "execution_count": 6,
   "metadata": {},
   "outputs": [
    {
     "name": "stdout",
     "output_type": "stream",
     "text": [
      "1\n",
      "count    3.000000\n",
      "mean     0.048267\n",
      "std      0.012201\n",
      "min      0.034400\n",
      "25%      0.043724\n",
      "50%      0.053049\n",
      "75%      0.055201\n",
      "max      0.057353\n",
      "dtype: float64\n",
      "\n",
      "1.5\n",
      "count    3.000000\n",
      "mean     0.110850\n",
      "std      0.000952\n",
      "min      0.109904\n",
      "25%      0.110372\n",
      "50%      0.110841\n",
      "75%      0.111324\n",
      "max      0.111807\n",
      "dtype: float64\n",
      "\n",
      "2.0\n",
      "count    5.000000\n",
      "mean     0.100758\n",
      "std      0.051546\n",
      "min      0.043505\n",
      "25%      0.064994\n",
      "50%      0.107269\n",
      "75%      0.110196\n",
      "max      0.177825\n",
      "dtype: float64\n",
      "\n",
      "2.5\n",
      "count    3.000000\n",
      "mean     0.181260\n",
      "std      0.022632\n",
      "min      0.161518\n",
      "25%      0.168910\n",
      "50%      0.176303\n",
      "75%      0.191131\n",
      "max      0.205960\n",
      "dtype: float64\n",
      "\n",
      "3.0\n",
      "count    3.000000\n",
      "mean     0.247932\n",
      "std      0.006830\n",
      "min      0.240447\n",
      "25%      0.244985\n",
      "50%      0.249523\n",
      "75%      0.251675\n",
      "max      0.253827\n",
      "dtype: float64\n",
      "\n",
      "3.5\n",
      "count    3.000000\n",
      "mean     0.277306\n",
      "std      0.010321\n",
      "min      0.267586\n",
      "25%      0.271890\n",
      "50%      0.276194\n",
      "75%      0.282166\n",
      "max      0.288139\n",
      "dtype: float64\n",
      "\n",
      "4.0\n",
      "count    2.000000\n",
      "mean     0.381940\n",
      "std      0.034489\n",
      "min      0.357553\n",
      "25%      0.369747\n",
      "50%      0.381940\n",
      "75%      0.394134\n",
      "max      0.406327\n",
      "dtype: float64\n",
      "\n"
     ]
    }
   ],
   "source": [
    "rates_avg = []\n",
    "rates_dev = []\n",
    "vs = []\n",
    "\n",
    "v = 1\n",
    "d = 120\n",
    "s = 90\n",
    "\n",
    "for fname, fnums in files:\n",
    "    rates = []\n",
    "    for fnum in fnums:\n",
    "        df = pd.read_csv(f\"{fname}{fnum}.csv\")\n",
    "        try:\n",
    "            rate = rate0(df, d=d, s=s)\n",
    "            if rate > 0:\n",
    "                rates.append(rate)\n",
    "        except:\n",
    "            pass\n",
    "    rates = pd.Series(rates)\n",
    "    \n",
    "    print(v)\n",
    "    print(pd.Series(rates).describe())\n",
    "    print()\n",
    "    \n",
    "    rates_avg.append(rates.mean())\n",
    "    rates_dev.append(rates.std())\n",
    "    vs.append(v)\n",
    "    \n",
    "    v += 0.5\n",
    "\n",
    "vs = np.array(vs)\n",
    "rates_avg = np.array(rates_avg)\n",
    "rates_dev = np.array(rates_dev)\n"
   ]
  },
  {
   "cell_type": "code",
   "execution_count": 7,
   "metadata": {},
   "outputs": [
    {
     "data": {
      "text/plain": [
       "<ErrorbarContainer object of 3 artists>"
      ]
     },
     "execution_count": 7,
     "metadata": {},
     "output_type": "execute_result"
    },
    {
     "data": {
      "image/png": "[encoded data removed]",
      "text/plain": [
       "<Figure size 432x288 with 1 Axes>"
      ]
     },
     "metadata": {
      "needs_background": "light"
     },
     "output_type": "display_data"
    }
   ],
   "source": [
    "plt.errorbar(vs, rates_avg, yerr=rates_dev, fmt='x')"
   ]
  },
  {
   "cell_type": "code",
   "execution_count": 8,
   "metadata": {},
   "outputs": [
    {
     "data": {
      "image/png": "[encoded data removed]",
      "text/plain": [
       "<Figure size 432x288 with 1 Axes>"
      ]
     },
     "metadata": {
      "needs_background": "light"
     },
     "output_type": "display_data"
    }
   ],
   "source": [
    "rates_avg = []\n",
    "rates_dev = []\n",
    "vs = []\n",
    "\n",
    "v = 1.0\n",
    "d = 60\n",
    "s = 60\n",
    "\n",
    "for fname, fnums in files:\n",
    "    rates = []\n",
    "    for fnum in fnums:\n",
    "        df = pd.read_csv(f\"{fname}{fnum}.csv\")\n",
    "\n",
    "        for t in range(1, len(df.time)):\n",
    "            rate_at_t = (df.Pressure[t] - df.Pressure[t - 1]) / (df.time[t] - df.time[t - 1])\n",
    "            if rate_at_t >= 1.2:\n",
    "                df = pd.DataFrame(data={\n",
    "                    'time': list(df.time[t:] - df.time[t]),\n",
    "                    'Pressure': list(df.Pressure[t:]),\n",
    "                    'Temperature': list(df.Temperature[t:])\n",
    "                })\n",
    "                break\n",
    "        else:\n",
    "            continue\n",
    "\n",
    "        try:\n",
    "            rate = rate0(df, d=d, s=s)\n",
    "\n",
    "            rates.append(rate)\n",
    "        except:\n",
    "            pass\n",
    "    rates = pd.Series(rates)\n",
    "        \n",
    "    rates_avg.append(rates.mean())\n",
    "    rates_dev.append(rates.std())\n",
    "    vs.append(v)\n",
    "    \n",
    "    v += 0.5\n",
    "\n",
    "vs = np.array(vs)\n",
    "rates_avg = np.array(rates_avg)\n",
    "rates_dev = np.array(rates_dev)\n",
    "\n",
    "plt.errorbar(vs, rates_avg, yerr=rates_dev, fmt='x', capsize=3.0)\n",
    "plt.show()"
   ]
  },
  {
   "cell_type": "code",
   "execution_count": 9,
   "metadata": {},
   "outputs": [
    {
     "data": {
      "image/png": "[encoded data removed]",
      "text/plain": [
       "<Figure size 432x288 with 1 Axes>"
      ]
     },
     "metadata": {
      "needs_background": "light"
     },
     "output_type": "display_data"
    }
   ],
   "source": [
    "plt.errorbar(1/vs, 1/rates_avg, yerr=rates_dev/rates_avg / rates_avg, fmt='x', capsize=4.0);"
   ]
  },
  {
   "cell_type": "code",
   "execution_count": 10,
   "metadata": {},
   "outputs": [
    {
     "data": {
      "text/plain": [
       "[<matplotlib.lines.Line2D at 0x11b47d780>]"
      ]
     },
     "execution_count": 10,
     "metadata": {},
     "output_type": "execute_result"
    },
    {
     "data": {
      "image/png": "[encoded data removed]",
      "text/plain": [
       "<Figure size 432x288 with 1 Axes>"
      ]
     },
     "metadata": {
      "needs_background": "light"
     },
     "output_type": "display_data"
    }
   ],
   "source": [
    "df = pd.read_csv('fe13.csv')\n",
    "plt.plot(df.Pressure)\n"
   ]
  },
  {
   "cell_type": "code",
   "execution_count": null,
   "metadata": {},
   "outputs": [],
   "source": []
  }
 ],
 "metadata": {
  "kernelspec": {
   "display_name": "Python 3",
   "language": "python",
   "name": "python3"
  },
  "language_info": {
   "codemirror_mode": {
    "name": "ipython",
    "version": 3
   },
   "file_extension": ".py",
   "mimetype": "text/x-python",
   "name": "python",
   "nbconvert_exporter": "python",
   "pygments_lexer": "ipython3",
   "version": "3.6.5"
  }
 },
 "nbformat": 4,
 "nbformat_minor": 2
}
